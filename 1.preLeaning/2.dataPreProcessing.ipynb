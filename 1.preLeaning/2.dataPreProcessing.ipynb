{
 "cells": [
  {
   "cell_type": "code",
   "execution_count": 2,
   "id": "93181887",
   "metadata": {},
   "outputs": [],
   "source": [
    "import torch\n",
    "import os\n",
    "import pandas as pd"
   ]
  },
  {
   "cell_type": "markdown",
   "id": "f8c7ea2c",
   "metadata": {},
   "source": [
    "# 1.读取数据集"
   ]
  },
  {
   "cell_type": "code",
   "execution_count": 14,
   "id": "38b6a6bd",
   "metadata": {},
   "outputs": [],
   "source": [
    "os.makedirs(os.path.join('..','data'),exist_ok=True)\n",
    "data_file=os.path.join('..','data','test_house.csv')\n",
    "# 写数据集\n",
    "with open(data_file,'w') as f:\n",
    "    f.write('numRooms,Alley,Price\\n')\n",
    "    f.write(',Pave,123324\\n')\n",
    "    f.write('2,,10600\\n')\n",
    "    f.write('3,Pave,353453\\n')\n",
    "    f.write('4,,123342\\n')\n",
    "    f.write('1,,123342\\n')"
   ]
  },
  {
   "cell_type": "code",
   "execution_count": 23,
   "id": "37be7fb8",
   "metadata": {},
   "outputs": [
    {
     "name": "stdout",
     "output_type": "stream",
     "text": [
      "   numRooms Alley   Price\n",
      "1       2.0   NaN   10600\n",
      "2       3.0  Pave  353453\n",
      "3       4.0   NaN  123342\n",
      "4       1.0   NaN  123342\n"
     ]
    }
   ],
   "source": [
    "#读数据集\n",
    "data=pd.read_csv(data_file)\n",
    "# 删除numRooms 为空的行数据\n",
    "data=data.dropna(subset=['numRooms'])\n",
    "print(data)"
   ]
  },
  {
   "cell_type": "markdown",
   "id": "956f2e27",
   "metadata": {},
   "source": [
    "# 2.处理缺失值"
   ]
  },
  {
   "cell_type": "code",
   "execution_count": 24,
   "id": "1c3af0d8",
   "metadata": {},
   "outputs": [
    {
     "name": "stdout",
     "output_type": "stream",
     "text": [
      "   numRooms Alley\n",
      "1       2.0   NaN\n",
      "2       3.0  Pave\n",
      "3       4.0   NaN\n",
      "4       1.0   NaN\n"
     ]
    }
   ],
   "source": [
    "# 处理缺失值,典型的方法包括插值法和删除法， 其中插值法用一个替代值弥补缺失值，而删除法则直接忽略缺失值.\n",
    "# 通过位置缩影iloc，将data分为inputs和outpus\n",
    "inputs,outputs=data.iloc[:,0:2],data.iloc[:,2]\n",
    "print(inputs)"
   ]
  },
  {
   "cell_type": "code",
   "execution_count": 25,
   "id": "976848cc",
   "metadata": {},
   "outputs": [
    {
     "name": "stdout",
     "output_type": "stream",
     "text": [
      "   numRooms  Alley_Pave  Alley_nan\n",
      "1       2.0           0          1\n",
      "2       3.0           1          0\n",
      "3       4.0           0          1\n",
      "4       1.0           0          1\n"
     ]
    }
   ],
   "source": [
    "# 对于inputs中的类别值或离散值，我们将“NaN”视为一个类别。\n",
    "# 由于“巷子类型”（“Alley”）列只接受两种类型的类别值“Pave”和“NaN”\n",
    "# ， pandas可以自动将此列转换为两列“Alley_Pave”和“Alley_nan”。 \n",
    "# 巷子类型为“Pave”的行会将“Alley_Pave”的值设置为1，“Alley_nan”的值\n",
    "# 设置为0。 \n",
    "\n",
    "# 将输入中的分类变量转换为哑变量（或称为“独热编码”），并为缺失值（NaN）创建单独的列。\n",
    "inputs=pd.get_dummies(inputs,dummy_na=True)\n",
    "print(inputs)"
   ]
  },
  {
   "cell_type": "markdown",
   "id": "d3c4f034",
   "metadata": {},
   "source": [
    "# 3.转为张量格式"
   ]
  },
  {
   "cell_type": "code",
   "execution_count": 27,
   "id": "2783b1d4",
   "metadata": {},
   "outputs": [
    {
     "name": "stdout",
     "output_type": "stream",
     "text": [
      "tensor([[2., 0., 1.],\n",
      "        [3., 1., 0.],\n",
      "        [4., 0., 1.],\n",
      "        [1., 0., 1.]], dtype=torch.float64)\n",
      "tensor([ 10600., 353453., 123342., 123342.], dtype=torch.float64)\n"
     ]
    }
   ],
   "source": [
    "X=torch.tensor(inputs.to_numpy(dtype=float))\n",
    "Y=torch.tensor(outputs.to_numpy(dtype=float))\n",
    "print(X)\n",
    "print(Y)"
   ]
  },
  {
   "cell_type": "markdown",
   "id": "cda0fbd0",
   "metadata": {},
   "source": [
    "# 4.练习"
   ]
  },
  {
   "cell_type": "markdown",
   "id": "8b3e3eb4",
   "metadata": {},
   "source": [
    "### 1.删除缺失值最多的列"
   ]
  },
  {
   "cell_type": "code",
   "execution_count": 38,
   "id": "b326c451",
   "metadata": {},
   "outputs": [
    {
     "name": "stdout",
     "output_type": "stream",
     "text": [
      "   numRooms Alley   Price\n",
      "0       NaN  Pave  123324\n",
      "1       2.0   NaN   10600\n",
      "2       3.0  Pave  353453\n",
      "3       4.0   NaN  123342\n",
      "4       1.0   NaN  123342\n",
      "numRooms    1\n",
      "Alley       3\n",
      "Price       0\n",
      "dtype: int64\n",
      "Alley\n",
      "   numRooms   Price\n",
      "0       NaN  123324\n",
      "1       2.0   10600\n",
      "2       3.0  353453\n",
      "3       4.0  123342\n",
      "4       1.0  123342\n"
     ]
    }
   ],
   "source": [
    "data_file2=os.path.join('..','data','test_house.csv')\n",
    "dataset=pd.read_csv(data_file2)\n",
    "print(dataset)\n",
    "nan_counts=dataset.isnull().sum()\n",
    "print(nan_counts)\n",
    "column_most_missing_index=nan_counts.idxmax()\n",
    "print(column_most_missing_index)\n",
    "dataset=dataset.drop(columns=[column_most_missing_index])\n",
    "print(dataset)"
   ]
  },
  {
   "cell_type": "code",
   "execution_count": null,
   "id": "53d093f4",
   "metadata": {},
   "outputs": [],
   "source": []
  }
 ],
 "metadata": {
  "kernelspec": {
   "display_name": "Python 3 (ipykernel)",
   "language": "python",
   "name": "python3"
  },
  "language_info": {
   "codemirror_mode": {
    "name": "ipython",
    "version": 3
   },
   "file_extension": ".py",
   "mimetype": "text/x-python",
   "name": "python",
   "nbconvert_exporter": "python",
   "pygments_lexer": "ipython3",
   "version": "3.9.20"
  }
 },
 "nbformat": 4,
 "nbformat_minor": 5
}
